{
 "cells": [
  {
   "cell_type": "code",
   "execution_count": 1,
   "id": "c8e4b90f",
   "metadata": {},
   "outputs": [],
   "source": [
    "import struct,datetime,sys\n",
    "import numpy as np\n",
    "import matplotlib.pyplot as plt\n",
    "import cz_handler as cz"
   ]
  },
  {
   "cell_type": "code",
   "execution_count": 2,
   "metadata": {},
   "outputs": [],
   "source": [
    "rawdata_dir = '/group/cmb/kamioka/miniland/rawdata/'"
   ]
  },
  {
   "cell_type": "code",
   "execution_count": 3,
   "metadata": {},
   "outputs": [],
   "source": [
    "import glob\n",
    "from natsort import natsorted"
   ]
  },
  {
   "cell_type": "code",
   "execution_count": 4,
   "metadata": {},
   "outputs": [
    {
     "data": {
      "text/plain": [
       "['/group/cmb/kamioka/miniland/rawdata/run009.dat',\n",
       " '/group/cmb/kamioka/miniland/rawdata/run010.dat',\n",
       " '/group/cmb/kamioka/miniland/rawdata/run011.dat',\n",
       " '/group/cmb/kamioka/miniland/rawdata/run012.dat',\n",
       " '/group/cmb/kamioka/miniland/rawdata/run013.dat',\n",
       " '/group/cmb/kamioka/miniland/rawdata/run014.dat',\n",
       " '/group/cmb/kamioka/miniland/rawdata/run015.dat',\n",
       " '/group/cmb/kamioka/miniland/rawdata/run016.dat',\n",
       " '/group/cmb/kamioka/miniland/rawdata/run017.dat',\n",
       " '/group/cmb/kamioka/miniland/rawdata/run018.dat',\n",
       " '/group/cmb/kamioka/miniland/rawdata/run019.dat',\n",
       " '/group/cmb/kamioka/miniland/rawdata/run020.dat',\n",
       " '/group/cmb/kamioka/miniland/rawdata/run021.dat',\n",
       " '/group/cmb/kamioka/miniland/rawdata/run022.dat',\n",
       " '/group/cmb/kamioka/miniland/rawdata/run023.dat',\n",
       " '/group/cmb/kamioka/miniland/rawdata/run025.dat',\n",
       " '/group/cmb/kamioka/miniland/rawdata/run026.dat',\n",
       " '/group/cmb/kamioka/miniland/rawdata/run027.dat',\n",
       " '/group/cmb/kamioka/miniland/rawdata/run028.dat',\n",
       " '/group/cmb/kamioka/miniland/rawdata/run029.dat',\n",
       " '/group/cmb/kamioka/miniland/rawdata/run030.dat',\n",
       " '/group/cmb/kamioka/miniland/rawdata/run031.dat',\n",
       " '/group/cmb/kamioka/miniland/rawdata/run032.dat',\n",
       " '/group/cmb/kamioka/miniland/rawdata/run033.dat',\n",
       " '/group/cmb/kamioka/miniland/rawdata/run034.dat',\n",
       " '/group/cmb/kamioka/miniland/rawdata/run035.dat']"
      ]
     },
     "execution_count": 4,
     "metadata": {},
     "output_type": "execute_result"
    }
   ],
   "source": [
    "filelist = natsorted(glob.glob(f'{rawdata_dir}/*.dat'))\n",
    "filelist "
   ]
  },
  {
   "cell_type": "code",
   "execution_count": 11,
   "metadata": {},
   "outputs": [
    {
     "name": "stdout",
     "output_type": "stream",
     "text": [
      "now processing /group/cmb/kamioka/miniland/rawdata/run010.dat\n",
      "found 010 in log book at line #6\n"
     ]
    }
   ],
   "source": [
    "filename = filelist[1] #run010 => Cs137 data\n",
    "CZ = cz.CZ_handler(filename)"
   ]
  },
  {
   "cell_type": "code",
   "execution_count": 12,
   "metadata": {},
   "outputs": [
    {
     "name": "stdout",
     "output_type": "stream",
     "text": [
      "loaded 0/12246 events [0.00% in run#010]\n",
      "loaded 1000/12246 events [8.17% in run#010]\n",
      "loaded 2000/12246 events [16.33% in run#010]\n",
      "loaded 3000/12246 events [24.50% in run#010]\n",
      "loaded 4000/12246 events [32.66% in run#010]\n",
      "loaded 5000/12246 events [40.83% in run#010]\n",
      "loaded 6000/12246 events [49.00% in run#010]\n",
      "loaded 7000/12246 events [57.16% in run#010]\n",
      "loaded 8000/12246 events [65.33% in run#010]\n",
      "loaded 9000/12246 events [73.49% in run#010]\n",
      "loaded 10000/12246 events [81.66% in run#010]\n",
      "loaded 11000/12246 events [89.83% in run#010]\n",
      "loaded 12000/12246 events [97.99% in run#010]\n"
     ]
    }
   ],
   "source": [
    "CZ.dataLoad()\n",
    "CZ.setWaveformLength(211)\n",
    "CZ.waveformLoad(waveform_analysis=1)\n",
    "CZ.pedestalSubtraction()\n",
    "CZ.makeAmplitude()\n",
    "CZ.makeArea()"
   ]
  },
  {
   "cell_type": "code",
   "execution_count": 13,
   "metadata": {},
   "outputs": [],
   "source": [
    "df = CZ.MakeDataFrame()"
   ]
  },
  {
   "cell_type": "code",
   "execution_count": 14,
   "metadata": {},
   "outputs": [
    {
     "data": {
      "text/html": [
       "<div>\n",
       "<style scoped>\n",
       "    .dataframe tbody tr th:only-of-type {\n",
       "        vertical-align: middle;\n",
       "    }\n",
       "\n",
       "    .dataframe tbody tr th {\n",
       "        vertical-align: top;\n",
       "    }\n",
       "\n",
       "    .dataframe thead th {\n",
       "        text-align: right;\n",
       "    }\n",
       "</style>\n",
       "<table border=\"1\" class=\"dataframe\">\n",
       "  <thead>\n",
       "    <tr style=\"text-align: right;\">\n",
       "      <th></th>\n",
       "      <th>RunNumber</th>\n",
       "      <th>UnixTimeStart</th>\n",
       "      <th>UnixTimeStop</th>\n",
       "      <th>Source</th>\n",
       "      <th>EventID</th>\n",
       "      <th>Timestamp</th>\n",
       "      <th>Pedestal</th>\n",
       "      <th>Pedestal2</th>\n",
       "      <th>Amplitude</th>\n",
       "      <th>Area</th>\n",
       "      <th>Waveform</th>\n",
       "      <th>Waveform_org</th>\n",
       "    </tr>\n",
       "  </thead>\n",
       "  <tbody>\n",
       "    <tr>\n",
       "      <th>0</th>\n",
       "      <td>010</td>\n",
       "      <td>2023-04-19 12:12:59</td>\n",
       "      <td>2023-04-19 12:13:59</td>\n",
       "      <td>source 137Cs</td>\n",
       "      <td>0</td>\n",
       "      <td>218896377312</td>\n",
       "      <td>8660</td>\n",
       "      <td>8669.000000</td>\n",
       "      <td>1492</td>\n",
       "      <td>97631</td>\n",
       "      <td>[583, 8, 11, 6, 13, 9, 8, 11, 15, 5, 9, 9, 8, ...</td>\n",
       "      <td>[9243, 8668, 8671, 8666, 8673, 8669, 8668, 867...</td>\n",
       "    </tr>\n",
       "    <tr>\n",
       "      <th>1</th>\n",
       "      <td>010</td>\n",
       "      <td>2023-04-19 12:12:59</td>\n",
       "      <td>2023-04-19 12:13:59</td>\n",
       "      <td>source 137Cs</td>\n",
       "      <td>1</td>\n",
       "      <td>218896642666</td>\n",
       "      <td>8664</td>\n",
       "      <td>8662.142857</td>\n",
       "      <td>4265</td>\n",
       "      <td>282590</td>\n",
       "      <td>[214, -5, -2, -1, 1, 6, -3, 2, -13, 0, -6, 1, ...</td>\n",
       "      <td>[8878, 8659, 8662, 8663, 8665, 8670, 8661, 866...</td>\n",
       "    </tr>\n",
       "    <tr>\n",
       "      <th>2</th>\n",
       "      <td>010</td>\n",
       "      <td>2023-04-19 12:12:59</td>\n",
       "      <td>2023-04-19 12:13:59</td>\n",
       "      <td>source 137Cs</td>\n",
       "      <td>2</td>\n",
       "      <td>218898093366</td>\n",
       "      <td>8664</td>\n",
       "      <td>8668.785714</td>\n",
       "      <td>768</td>\n",
       "      <td>50506</td>\n",
       "      <td>[255, 3, 4, 6, 6, 5, 8, 3, 2, 6, 8, 3, 4, 8, 1...</td>\n",
       "      <td>[8919, 8667, 8668, 8670, 8670, 8669, 8672, 866...</td>\n",
       "    </tr>\n",
       "    <tr>\n",
       "      <th>3</th>\n",
       "      <td>010</td>\n",
       "      <td>2023-04-19 12:12:59</td>\n",
       "      <td>2023-04-19 12:13:59</td>\n",
       "      <td>source 137Cs</td>\n",
       "      <td>3</td>\n",
       "      <td>218898217866</td>\n",
       "      <td>8672</td>\n",
       "      <td>8671.000000</td>\n",
       "      <td>3294</td>\n",
       "      <td>214750</td>\n",
       "      <td>[775, -1, -1, 0, 0, -2, -3, 2, -1, -3, 4, 0, 0...</td>\n",
       "      <td>[9447, 8671, 8671, 8672, 8672, 8670, 8669, 867...</td>\n",
       "    </tr>\n",
       "    <tr>\n",
       "      <th>4</th>\n",
       "      <td>010</td>\n",
       "      <td>2023-04-19 12:12:59</td>\n",
       "      <td>2023-04-19 12:13:59</td>\n",
       "      <td>source 137Cs</td>\n",
       "      <td>4</td>\n",
       "      <td>218899026412</td>\n",
       "      <td>8668</td>\n",
       "      <td>8669.000000</td>\n",
       "      <td>552</td>\n",
       "      <td>35479</td>\n",
       "      <td>[402, 2, -1, -3, 0, 2, 3, 1, -1, 4, 1, 3, 0, 1...</td>\n",
       "      <td>[9070, 8670, 8667, 8665, 8668, 8670, 8671, 866...</td>\n",
       "    </tr>\n",
       "    <tr>\n",
       "      <th>...</th>\n",
       "      <td>...</td>\n",
       "      <td>...</td>\n",
       "      <td>...</td>\n",
       "      <td>...</td>\n",
       "      <td>...</td>\n",
       "      <td>...</td>\n",
       "      <td>...</td>\n",
       "      <td>...</td>\n",
       "      <td>...</td>\n",
       "      <td>...</td>\n",
       "      <td>...</td>\n",
       "      <td>...</td>\n",
       "    </tr>\n",
       "    <tr>\n",
       "      <th>12241</th>\n",
       "      <td>010</td>\n",
       "      <td>2023-04-19 12:12:59</td>\n",
       "      <td>2023-04-19 12:13:59</td>\n",
       "      <td>source 137Cs</td>\n",
       "      <td>12241</td>\n",
       "      <td>224890628066</td>\n",
       "      <td>8660</td>\n",
       "      <td>8709.571429</td>\n",
       "      <td>2608</td>\n",
       "      <td>170574</td>\n",
       "      <td>[1532, 56, 55, 54, 53, 48, 52, 50, 48, 53, 49,...</td>\n",
       "      <td>[10192, 8716, 8715, 8714, 8713, 8708, 8712, 87...</td>\n",
       "    </tr>\n",
       "    <tr>\n",
       "      <th>12242</th>\n",
       "      <td>010</td>\n",
       "      <td>2023-04-19 12:12:59</td>\n",
       "      <td>2023-04-19 12:13:59</td>\n",
       "      <td>source 137Cs</td>\n",
       "      <td>12242</td>\n",
       "      <td>224890676166</td>\n",
       "      <td>8660</td>\n",
       "      <td>8617.642857</td>\n",
       "      <td>795</td>\n",
       "      <td>48807</td>\n",
       "      <td>[1214, -43, -46, -38, -43, -42, -41, -42, -45,...</td>\n",
       "      <td>[9874, 8617, 8614, 8622, 8617, 8618, 8619, 861...</td>\n",
       "    </tr>\n",
       "    <tr>\n",
       "      <th>12243</th>\n",
       "      <td>010</td>\n",
       "      <td>2023-04-19 12:12:59</td>\n",
       "      <td>2023-04-19 12:13:59</td>\n",
       "      <td>source 137Cs</td>\n",
       "      <td>12243</td>\n",
       "      <td>224890939012</td>\n",
       "      <td>8664</td>\n",
       "      <td>8669.000000</td>\n",
       "      <td>3198</td>\n",
       "      <td>210253</td>\n",
       "      <td>[3021, 8, 3, 5, 7, 0, 4, 6, 5, 8, 8, 6, -2, 8,...</td>\n",
       "      <td>[11685, 8672, 8667, 8669, 8671, 8664, 8668, 86...</td>\n",
       "    </tr>\n",
       "    <tr>\n",
       "      <th>12244</th>\n",
       "      <td>010</td>\n",
       "      <td>2023-04-19 12:12:59</td>\n",
       "      <td>2023-04-19 12:13:59</td>\n",
       "      <td>source 137Cs</td>\n",
       "      <td>12244</td>\n",
       "      <td>224891944112</td>\n",
       "      <td>8664</td>\n",
       "      <td>8664.142857</td>\n",
       "      <td>3208</td>\n",
       "      <td>210184</td>\n",
       "      <td>[1289, -4, -5, -3, 1, -2, 4, 0, 6, 0, 2, 6, -4...</td>\n",
       "      <td>[9953, 8660, 8659, 8661, 8665, 8662, 8668, 866...</td>\n",
       "    </tr>\n",
       "    <tr>\n",
       "      <th>12245</th>\n",
       "      <td>010</td>\n",
       "      <td>2023-04-19 12:12:59</td>\n",
       "      <td>2023-04-19 12:13:59</td>\n",
       "      <td>source 137Cs</td>\n",
       "      <td>12245</td>\n",
       "      <td>224892284866</td>\n",
       "      <td>8668</td>\n",
       "      <td>8664.000000</td>\n",
       "      <td>2167</td>\n",
       "      <td>247895</td>\n",
       "      <td>[2023, 1, -15, -5, -5, 0, -5, -3, -5, -3, -2, ...</td>\n",
       "      <td>[10691, 8669, 8653, 8663, 8663, 8668, 8663, 86...</td>\n",
       "    </tr>\n",
       "  </tbody>\n",
       "</table>\n",
       "<p>12246 rows × 12 columns</p>\n",
       "</div>"
      ],
      "text/plain": [
       "      RunNumber       UnixTimeStart        UnixTimeStop        Source  \\\n",
       "0           010 2023-04-19 12:12:59 2023-04-19 12:13:59  source 137Cs   \n",
       "1           010 2023-04-19 12:12:59 2023-04-19 12:13:59  source 137Cs   \n",
       "2           010 2023-04-19 12:12:59 2023-04-19 12:13:59  source 137Cs   \n",
       "3           010 2023-04-19 12:12:59 2023-04-19 12:13:59  source 137Cs   \n",
       "4           010 2023-04-19 12:12:59 2023-04-19 12:13:59  source 137Cs   \n",
       "...         ...                 ...                 ...           ...   \n",
       "12241       010 2023-04-19 12:12:59 2023-04-19 12:13:59  source 137Cs   \n",
       "12242       010 2023-04-19 12:12:59 2023-04-19 12:13:59  source 137Cs   \n",
       "12243       010 2023-04-19 12:12:59 2023-04-19 12:13:59  source 137Cs   \n",
       "12244       010 2023-04-19 12:12:59 2023-04-19 12:13:59  source 137Cs   \n",
       "12245       010 2023-04-19 12:12:59 2023-04-19 12:13:59  source 137Cs   \n",
       "\n",
       "       EventID     Timestamp  Pedestal    Pedestal2  Amplitude    Area  \\\n",
       "0            0  218896377312      8660  8669.000000       1492   97631   \n",
       "1            1  218896642666      8664  8662.142857       4265  282590   \n",
       "2            2  218898093366      8664  8668.785714        768   50506   \n",
       "3            3  218898217866      8672  8671.000000       3294  214750   \n",
       "4            4  218899026412      8668  8669.000000        552   35479   \n",
       "...        ...           ...       ...          ...        ...     ...   \n",
       "12241    12241  224890628066      8660  8709.571429       2608  170574   \n",
       "12242    12242  224890676166      8660  8617.642857        795   48807   \n",
       "12243    12243  224890939012      8664  8669.000000       3198  210253   \n",
       "12244    12244  224891944112      8664  8664.142857       3208  210184   \n",
       "12245    12245  224892284866      8668  8664.000000       2167  247895   \n",
       "\n",
       "                                                Waveform  \\\n",
       "0      [583, 8, 11, 6, 13, 9, 8, 11, 15, 5, 9, 9, 8, ...   \n",
       "1      [214, -5, -2, -1, 1, 6, -3, 2, -13, 0, -6, 1, ...   \n",
       "2      [255, 3, 4, 6, 6, 5, 8, 3, 2, 6, 8, 3, 4, 8, 1...   \n",
       "3      [775, -1, -1, 0, 0, -2, -3, 2, -1, -3, 4, 0, 0...   \n",
       "4      [402, 2, -1, -3, 0, 2, 3, 1, -1, 4, 1, 3, 0, 1...   \n",
       "...                                                  ...   \n",
       "12241  [1532, 56, 55, 54, 53, 48, 52, 50, 48, 53, 49,...   \n",
       "12242  [1214, -43, -46, -38, -43, -42, -41, -42, -45,...   \n",
       "12243  [3021, 8, 3, 5, 7, 0, 4, 6, 5, 8, 8, 6, -2, 8,...   \n",
       "12244  [1289, -4, -5, -3, 1, -2, 4, 0, 6, 0, 2, 6, -4...   \n",
       "12245  [2023, 1, -15, -5, -5, 0, -5, -3, -5, -3, -2, ...   \n",
       "\n",
       "                                            Waveform_org  \n",
       "0      [9243, 8668, 8671, 8666, 8673, 8669, 8668, 867...  \n",
       "1      [8878, 8659, 8662, 8663, 8665, 8670, 8661, 866...  \n",
       "2      [8919, 8667, 8668, 8670, 8670, 8669, 8672, 866...  \n",
       "3      [9447, 8671, 8671, 8672, 8672, 8670, 8669, 867...  \n",
       "4      [9070, 8670, 8667, 8665, 8668, 8670, 8671, 866...  \n",
       "...                                                  ...  \n",
       "12241  [10192, 8716, 8715, 8714, 8713, 8708, 8712, 87...  \n",
       "12242  [9874, 8617, 8614, 8622, 8617, 8618, 8619, 861...  \n",
       "12243  [11685, 8672, 8667, 8669, 8671, 8664, 8668, 86...  \n",
       "12244  [9953, 8660, 8659, 8661, 8665, 8662, 8668, 866...  \n",
       "12245  [10691, 8669, 8653, 8663, 8663, 8668, 8663, 86...  \n",
       "\n",
       "[12246 rows x 12 columns]"
      ]
     },
     "execution_count": 14,
     "metadata": {},
     "output_type": "execute_result"
    }
   ],
   "source": [
    "df"
   ]
  },
  {
   "cell_type": "code",
   "execution_count": 15,
   "metadata": {},
   "outputs": [
    {
     "data": {
      "image/png": "[encoded data removed]",
      "text/plain": [
       "<Figure size 640x480 with 1 Axes>"
      ]
     },
     "metadata": {},
     "output_type": "display_data"
    }
   ],
   "source": [
    "plt.hist(df.Area, bins=100)\n",
    "plt.show()"
   ]
  },
  {
   "cell_type": "code",
   "execution_count": 16,
   "metadata": {},
   "outputs": [
    {
     "data": {
      "image/png": "[encoded data removed]",
      "text/plain": [
       "<Figure size 640x480 with 1 Axes>"
      ]
     },
     "metadata": {},
     "output_type": "display_data"
    }
   ],
   "source": [
    "plt.hist(df.Amplitude, bins=100)\n",
    "plt.show()"
   ]
  },
  {
   "cell_type": "code",
   "execution_count": 20,
   "metadata": {},
   "outputs": [
    {
     "data": {
      "image/png": "[encoded data removed]",
      "text/plain": [
       "<Figure size 640x480 with 1 Axes>"
      ]
     },
     "metadata": {},
     "output_type": "display_data"
    }
   ],
   "source": [
    "waveformdata = df.Waveform.iloc[0]\n",
    "time_index = np.arange(len(waveformdata))\n",
    "\n",
    "plt.plot(time_index[1:], waveformdata[1:], drawstyle='steps-mid')\n",
    "plt.show()"
   ]
  },
  {
   "cell_type": "code",
   "execution_count": null,
   "metadata": {},
   "outputs": [],
   "source": []
  },
  {
   "cell_type": "code",
   "execution_count": null,
   "metadata": {},
   "outputs": [],
   "source": []
  },
  {
   "cell_type": "code",
   "execution_count": null,
   "metadata": {},
   "outputs": [],
   "source": []
  },
  {
   "cell_type": "code",
   "execution_count": null,
   "id": "ab18bcbc",
   "metadata": {},
   "outputs": [],
   "source": []
  }
 ],
 "metadata": {
  "kernelspec": {
   "display_name": "Python 3 (ipykernel)",
   "language": "python",
   "name": "python3"
  },
  "language_info": {
   "codemirror_mode": {
    "name": "ipython",
    "version": 3
   },
   "file_extension": ".py",
   "mimetype": "text/x-python",
   "name": "python",
   "nbconvert_exporter": "python",
   "pygments_lexer": "ipython3",
   "version": "3.9.16"
  }
 },
 "nbformat": 4,
 "nbformat_minor": 5
}

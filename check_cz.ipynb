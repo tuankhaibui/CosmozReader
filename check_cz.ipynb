{
 "cells": [
  {
   "cell_type": "code",
   "execution_count": 68,
   "id": "c8e4b90f",
   "metadata": {},
   "outputs": [],
   "source": [
    "import struct,datetime,sys\n",
    "import numpy as np\n",
    "import matplotlib.pyplot as plt\n",
    "import cz_handler as cz"
   ]
  },
  {
   "cell_type": "code",
   "execution_count": 69,
   "id": "983428d3",
   "metadata": {},
   "outputs": [],
   "source": [
    "rawdata_dir = '../BKG_MiniLAND_rawdata/'\n",
    "pkldata_dir = '../BKG_MiniLAND_pkl/'"
   ]
  },
  {
   "cell_type": "code",
   "execution_count": 70,
   "id": "0b8d3c6a",
   "metadata": {},
   "outputs": [
    {
     "name": "stdout",
     "output_type": "stream",
     "text": [
      "now processing ../BKG_MiniLAND_rawdata/run009.dat\n",
      "cannot find 009 in log book\n"
     ]
    }
   ],
   "source": [
    "runnum = 9\n",
    "filename = rawdata_dir + f'run{int(runnum):03d}.dat'\n",
    "CZ=cz.CZ_handler(filename)"
   ]
  },
  {
   "cell_type": "code",
   "execution_count": 71,
   "id": "593568ef",
   "metadata": {},
   "outputs": [],
   "source": [
    "CZ.dataLoad()"
   ]
  },
  {
   "cell_type": "code",
   "execution_count": 72,
   "id": "79086a68",
   "metadata": {},
   "outputs": [
    {
     "name": "stdout",
     "output_type": "stream",
     "text": [
      "loaded 0/1831 events [0.00% in run#009]\n",
      "loaded 1000/1831 events [54.61% in run#009]\n"
     ]
    }
   ],
   "source": [
    "CZ.setWaveformLength(211)\n",
    "CZ.waveformLoad(waveform_analysis=1)\n",
    "WF = CZ.getWaveform()"
   ]
  },
  {
   "cell_type": "code",
   "execution_count": 73,
   "id": "6dc4ec59",
   "metadata": {},
   "outputs": [
    {
     "data": {
      "text/plain": [
       "array([[ 8663,  8671,  8669, ...,  8595,  8592,  8588],\n",
       "       [ 8661,  8669,  8669, ...,  8464,  8463,  8457],\n",
       "       [ 8657,  8666,  8671, ...,  8645,  8638,  8636],\n",
       "       ...,\n",
       "       [12204,  8668,  8666, ...,  8492,  8490,  8488],\n",
       "       [ 9179,  8673,  8673, ...,  8572,  8571,  8568],\n",
       "       [ 9458,  8674,  8670, ...,  8585,  8584,  8573]])"
      ]
     },
     "execution_count": 73,
     "metadata": {},
     "output_type": "execute_result"
    }
   ],
   "source": [
    "WF"
   ]
  },
  {
   "cell_type": "code",
   "execution_count": null,
   "id": "ab18bcbc",
   "metadata": {},
   "outputs": [],
   "source": []
  }
 ],
 "metadata": {
  "kernelspec": {
   "display_name": "Python 3 (ipykernel)",
   "language": "python",
   "name": "python3"
  },
  "language_info": {
   "codemirror_mode": {
    "name": "ipython",
    "version": 3
   },
   "file_extension": ".py",
   "mimetype": "text/x-python",
   "name": "python",
   "nbconvert_exporter": "python",
   "pygments_lexer": "ipython3",
   "version": "3.9.16"
  }
 },
 "nbformat": 4,
 "nbformat_minor": 5
}
